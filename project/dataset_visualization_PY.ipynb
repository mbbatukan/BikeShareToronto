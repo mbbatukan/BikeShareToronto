{
 "cells": [
  {
   "cell_type": "code",
   "execution_count": 2,
   "metadata": {},
   "outputs": [],
   "source": [
    "import os\n",
    "import pandas as pd\n",
    "import seaborn as sns\n",
    "import matplotlib.pyplot as plt\n",
    "import matplotlib_inline.backend_inline\n",
    "matplotlib_inline.backend_inline.set_matplotlib_formats('svg')"
   ]
  },
  {
   "cell_type": "code",
   "execution_count": 3,
   "metadata": {},
   "outputs": [
    {
     "ename": "SyntaxError",
     "evalue": "invalid syntax (3786389708.py, line 25)",
     "output_type": "error",
     "traceback": [
      "\u001b[0;36m  File \u001b[0;32m\"/var/folders/hd/xy5blk797rq5bq3nkbk7v1f00000gn/T/ipykernel_31148/3786389708.py\"\u001b[0;36m, line \u001b[0;32m25\u001b[0m\n\u001b[0;31m    format=\"svg\" transparent=False, facecolor=\"white\")\u001b[0m\n\u001b[0m                 ^\u001b[0m\n\u001b[0;31mSyntaxError\u001b[0m\u001b[0;31m:\u001b[0m invalid syntax\n"
     ]
    }
   ],
   "source": [
    "%cd -q \"../dataset/data/weather/\"\n",
    "years = [\"2017\", \"2018\", \"2019\", \"2020\", \"2021\"]\n",
    "\n",
    "for year in years:\n",
    "    files_weather = os.listdir()\n",
    "\n",
    "    files_weather_selected = []\n",
    "    for file in files_weather:\n",
    "        if year in file:\n",
    "            files_weather_selected.append(file)\n",
    "    \n",
    "    df_weather = pd.DataFrame()\n",
    "    for file in files_weather_selected:\n",
    "        df_weather = df_weather.append(pd.read_csv(file))\n",
    "\n",
    "    plt.figure()\n",
    "    palette = sns.diverging_palette(250, 15, s=100, l=50, n=9, center=\"light\")\n",
    "    ax = sns.boxplot(x=\"Month\", y=\"Temp (°C)\", data=df_weather, palette=palette)\n",
    "    ax.grid(linewidth= 0.2)\n",
    "    ax.set_axisbelow(True)\n",
    "    ax.set_xticklabels([\"Jan\", \"Feb\", \"Mar\", \"Apr\", \"May\", \"Jun\", \\\n",
    "                        \"Jul\", \"Aug\", \"Sep\", \"Oct\", \"Nov\", \"Dec\"])\n",
    "    plt.title(f\"Monthly Weather in Toronto ({year})\")\n",
    "    plt.savefig(f\"../../../project/weather_{year}.svg\", dpi=1200, \\\n",
    "                format=\"svg\", transparent=False, facecolor=\"white\")"
   ]
  }
 ],
 "metadata": {
  "interpreter": {
   "hash": "75c2fed17f316d5588e5a9fa5921300a03edc75d09155445c5c59924135da03a"
  },
  "kernelspec": {
   "display_name": "Julia 1.7.1",
   "language": "python",
   "name": "python3"
  },
  "language_info": {
   "codemirror_mode": {
    "name": "ipython",
    "version": 3
   },
   "file_extension": ".py",
   "mimetype": "text/x-python",
   "name": "python",
   "nbconvert_exporter": "python",
   "pygments_lexer": "ipython3",
   "version": "3.9.7"
  },
  "orig_nbformat": 4
 },
 "nbformat": 4,
 "nbformat_minor": 2
}
