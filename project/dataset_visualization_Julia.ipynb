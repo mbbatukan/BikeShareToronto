{
 "cells": [
  {
   "cell_type": "code",
   "execution_count": 1,
   "metadata": {},
   "outputs": [],
   "source": [
    "# import os\n",
    "# import numpy as np\n",
    "# import pandas as pd\n",
    "# import altair as alt\n",
    "# import seaborn as sns\n",
    "# import matplotlib.pyplot as plt\n",
    "# import matplotlib_inline.backend_inline\n",
    "# matplotlib_inline.backend_inline.set_matplotlib_formats('svg')\n",
    "\n",
    "import DataFrames as DF"
   ]
  },
  {
   "cell_type": "code",
   "execution_count": null,
   "metadata": {},
   "outputs": [],
   "source": [
    "years = [\"2017\", \"2018\", \"2019\", \"2020\",\"2021\"]\n",
    "\n",
    "folder_weather = \"../dataset/data/weather\"\n",
    "files_weather = readdir(folder_weather)\n",
    "\n",
    "year = \"2017\"\n",
    "files_weather_selected = []\n",
    "for file in files_weather\n",
    "    if occursin(year, file)\n",
    "        push!(files_weather_selected, file)\n",
    "    end\n",
    "end\n",
    "# files_weather_selected\n",
    "\n",
    "df_weather = pd.DataFrame()\n",
    "for file in files_weather_selected\n",
    "    # append(df_weather, pd.read_csv(folder_weather * '/' * file))\n",
    "    pd.DataFrame(pd.concat([df_weather, pd.read_csv(folder_weather * '/' * file)]))\n",
    "end"
   ]
  },
  {
   "cell_type": "code",
   "execution_count": null,
   "metadata": {},
   "outputs": [],
   "source": [
    "years = [\"2017\", \"2018\", \"2019\", \"2020\",\"2021\"]\n",
    "for year in years:\n",
    "\n",
    "    folder_weather = r\"C:\\Users\\Mehmet B Batukan\\OneDrive - University of Toronto\\Documents\\Software\\github\\BikeShareToronto\\dataset\\data\\weather\"\n",
    "    files_weather = os.listdir(folder_weather)\n",
    "\n",
    "    files_weather_selected = []\n",
    "    for file in files_weather:\n",
    "        if year in file:\n",
    "            files_weather_selected.append(file)\n",
    "    \n",
    "\n",
    "    df_weather = pd.DataFrame()\n",
    "    for file in files_weather_selected:\n",
    "        df_weather = df_weather.append(pd.read_csv(folder_weather + '\\\\' + file))\n",
    "\n",
    "    %cd -q \"C:\\Users\\Mehmet B Batukan\\OneDrive - University of Toronto\\Documents\\Software\\github\\BikeShareToronto\\project\"\n",
    "\n",
    "    # df_weather[[\"Date\", \"TimeNew\"]] = df_weather[\"Date/Time\"].str.split(' ',expand=True)\n",
    "\n",
    "    plt.figure()\n",
    "    # palette = sns.color_palette(\"Paired\", 12)\n",
    "    palette = sns.diverging_palette(250, 15, s=100, l=50, n=9, center=\"light\")\n",
    "    ax = sns.boxplot(x=\"Month\", y=\"Temp (°C)\", data=df_weather, palette=palette)\n",
    "    plt.grid(linewidth= 0.2)\n",
    "    ax.set_axisbelow(True)\n",
    "    ax.set_xticklabels([\"Jan\", \"Feb\", \"Mar\", \"Apr\", \"May\", \"Jun\", \"Jul\", \"Aug\", \"Sep\", \"Oct\", \"Nov\", \"Dec\"])\n",
    "    plt.title(f\"Monthly Weather in Toronto ({year})\")\n",
    "    plt.savefig(f\"weather_{year}.svg\", dpi=1200, format=\"svg\")"
   ]
  }
 ],
 "metadata": {
  "interpreter": {
   "hash": "75c2fed17f316d5588e5a9fa5921300a03edc75d09155445c5c59924135da03a"
  },
  "kernelspec": {
   "display_name": "Julia 1.7.1",
   "language": "julia",
   "name": "julia-1.7"
  },
  "language_info": {
   "file_extension": ".jl",
   "mimetype": "application/julia",
   "name": "julia",
   "version": "1.7.1"
  },
  "orig_nbformat": 4
 },
 "nbformat": 4,
 "nbformat_minor": 2
}
