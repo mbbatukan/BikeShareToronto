{
 "cells": [
  {
   "cell_type": "code",
   "execution_count": null,
   "metadata": {},
   "outputs": [],
   "source": [
    "home_dir = homedir()\n",
    "\n",
    "using Pkg; Pkg.activate(home_dir * \".julia/environments/DataFrames\")\n",
    "\n",
    "import DataFrames as DF\n",
    "using CSV, Gadfly"
   ]
  },
  {
   "cell_type": "code",
   "execution_count": null,
   "metadata": {},
   "outputs": [],
   "source": [
    "years = [\"2017\", \"2018\", \"2019\", \"2020\", \"2021\"]\n",
    "\n",
    "folder_weather = home_dir * \"Documents/github/BikeShareToronto/dataset/data/weather/\"\n",
    "files_weather = readdir(folder_weather)\n",
    "\n",
    "for year in years\n",
    "    files_weather_selected = []\n",
    "    for file in files_weather\n",
    "        if occursin(year, file)\n",
    "            push!(files_weather_selected, file)\n",
    "        end\n",
    "    end\n",
    "\n",
    "    df_all = DF.DataFrame()\n",
    "    for file in files_weather_selected\n",
    "        append!(df_all, DF.DataFrame(CSV.File(folder_weather * file)); cols = :union)\n",
    "    end\n",
    "\n",
    "    DF.describe(df_all, :all)\n",
    "    df_weather = df_all[:, [\"Temp (°C)\", \"Month\"]]\n",
    "    DF.rename!(df_weather, \"Temp (°C)\" => :temp, \"Month\" => :month)\n",
    "    DF.dropmissing!(df_weather)\n",
    "\n",
    "    df_weather[!,:month] = string.(df_weather[!,:month])\n",
    "    xticks = [\"Jan\", \"Feb\", \"Mar\", \"Apr\", \"May\", \"Jun\", \"Jul\", \"Aug\", \"Sep\", \"Oct\", \"Nov\", \"Dec\"]\n",
    "\n",
    "    for i in 1:12\n",
    "        replace!(df_weather.month, string(i) => xticks[i])\n",
    "    end\n",
    "\n",
    "    set_default_plot_size(16cm, 9cm)\n",
    "\n",
    "    p = plot(df_weather,\n",
    "        x = :month,\n",
    "        y = :temp,\n",
    "        color = :month,\n",
    "        Geom.boxplot,\n",
    "        Guide.xlabel(\"Months\"),\n",
    "        Guide.ylabel(\"Temperature (°C)\"),\n",
    "        Guide.title(\"Monthly Weather in Toronto ($year)\"),\n",
    "        Guide.xticks(ticks=[0:13;]),\n",
    "        Guide.colorkey(title = \"Months\"),\n",
    "        Scale.y_continuous(format = :plain),\n",
    "        Theme(background_color = \"white\")\n",
    "    )\n",
    "\n",
    "    img = SVG(home_dir * \"Documents/github/BikeShareToronto/project/weather_$(year)_julia.svg\", 16cm, 9cm)\n",
    "    draw(img, p)\n",
    "end"
   ]
  }
 ],
 "metadata": {
  "interpreter": {
   "hash": "75c2fed17f316d5588e5a9fa5921300a03edc75d09155445c5c59924135da03a"
  },
  "kernelspec": {
   "display_name": "Julia 1.7.1",
   "language": "julia",
   "name": "julia-1.7"
  },
  "language_info": {
   "file_extension": ".jl",
   "mimetype": "application/julia",
   "name": "julia",
   "version": "1.7.1"
  },
  "orig_nbformat": 4
 },
 "nbformat": 4,
 "nbformat_minor": 2
}
